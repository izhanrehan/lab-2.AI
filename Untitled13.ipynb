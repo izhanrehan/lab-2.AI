{
 "cells": [
  {
   "cell_type": "markdown",
   "id": "7d033ce2-1c0e-49cd-a832-1d006bedf742",
   "metadata": {},
   "source": [
    "Write a python code to load an excel spreadsheet containing two different sheets and print both of them. "
   ]
  },
  {
   "cell_type": "code",
   "execution_count": 4,
   "id": "a66d2977-eaf1-48f4-aa5b-78ba2a59427a",
   "metadata": {},
   "outputs": [
    {
     "name": "stdout",
     "output_type": "stream",
     "text": [
      "Sheet 1:\n",
      "     Name  Score\n",
      "0     Ali     97\n",
      "1    Amir     69\n",
      "2  Kamran     95\n",
      "3    Sara     86\n",
      "4    Zara     82\n",
      "\n",
      "Sheet 2:\n",
      "     Subject  Credits\n",
      "0       Math        2\n",
      "1    Physics        2\n",
      "2  Chemistry        3\n",
      "3    Biology        3\n",
      "4    English        2\n"
     ]
    }
   ],
   "source": [
    "import pandas as pd\n",
    "import numpy as np\n",
    "\n",
    "# Create random data for two sheets\n",
    "data_sheet1 = {\n",
    "    'Name': ['Ali', 'Amir', 'Kamran', 'Sara', 'Zara'],\n",
    "    'Score': np.random.randint(50, 100, size=5)\n",
    "}\n",
    "\n",
    "data_sheet2 = {\n",
    "    'Subject': ['Math', 'Physics', 'Chemistry', 'Biology', 'English'],\n",
    "    'Credits': np.random.randint(2, 5, size=5)\n",
    "}\n",
    "\n",
    "# Create DataFrames to simulate sheets\n",
    "sheet1 = pd.DataFrame(data_sheet1)\n",
    "sheet2 = pd.DataFrame(data_sheet2)\n",
    "\n",
    "# Print both \"sheets\"\n",
    "print(\"Sheet 1:\")\n",
    "print(sheet1)\n",
    "print(\"\\nSheet 2:\")\n",
    "print(sheet2)\n"
   ]
  },
  {
   "cell_type": "markdown",
   "id": "7d459d6d-cfd2-4b4d-a9fa-0450ff8261ba",
   "metadata": {},
   "source": [
    "Write a python cade to generate a pandas data frame having 4 columns and 5 rows. Column 1 must contain the index values like Ali, Amir, Kamran, etc and Row 1 must contain the subject names. Artificial Intelligence (SWE-314) SSUET/QR/114 "
   ]
  },
  {
   "cell_type": "code",
   "execution_count": 2,
   "id": "0058d5b8-bbe0-4044-8623-92d5d1077a67",
   "metadata": {},
   "outputs": [
    {
     "name": "stdout",
     "output_type": "stream",
     "text": [
      "        Subject 1  Subject 2  Subject 3  Subject 4\n",
      "Ali            85         76         88         80\n",
      "Amir           90         85         91         82\n",
      "Kamran         78         80         85         78\n",
      "Sara           92         90         87         85\n",
      "Tariq          88         79         84         90\n"
     ]
    }
   ],
   "source": [
    "import pandas as pd\n",
    "\n",
    "# Define data\n",
    "data = {\n",
    "    'Subject 1': [85, 90, 78, 92, 88],\n",
    "    'Subject 2': [76, 85, 80, 90, 79],\n",
    "    'Subject 3': [88, 91, 85, 87, 84],\n",
    "    'Subject 4': [80, 82, 78, 85, 90]\n",
    "}\n",
    "\n",
    "# Create DataFrame\n",
    "df = pd.DataFrame(data, index=['Ali', 'Amir', 'Kamran', 'Sara', 'Tariq'])\n",
    "\n",
    "# Print DataFrame\n",
    "print(df)\n"
   ]
  },
  {
   "cell_type": "markdown",
   "id": "bd2320db-3ba9-4cbb-a99b-e98740c229b1",
   "metadata": {},
   "source": [
    "Write a python code to read an excel spreadsheet and only print first two columns using pandas data frame. "
   ]
  },
  {
   "cell_type": "code",
   "execution_count": 6,
   "id": "070f1c4d-2552-4bf7-bb89-76541672af98",
   "metadata": {},
   "outputs": [
    {
     "name": "stdout",
     "output_type": "stream",
     "text": [
      "          A         B\n",
      "0  0.977298  0.394358\n",
      "1  0.769272  0.909696\n",
      "2  0.569206  0.085205\n",
      "3  0.886392  0.608365\n",
      "4  0.589330  0.735516\n",
      "5  0.605111  0.625448\n",
      "6  0.656423  0.521910\n",
      "7  0.627563  0.471709\n",
      "8  0.930557  0.902555\n",
      "9  0.943438  0.717396\n"
     ]
    }
   ],
   "source": [
    "import pandas as pd\n",
    "import numpy as np\n",
    "\n",
    "# Create a sample DataFrame\n",
    "df = pd.DataFrame({\n",
    "    'A': np.random.rand(10),\n",
    "    'B': np.random.rand(10),\n",
    "    'C': np.random.rand(10)\n",
    "})\n",
    "\n",
    "# Print the first two columns\n",
    "print(df.iloc[:, :2])\n",
    "\n"
   ]
  },
  {
   "cell_type": "markdown",
   "id": "bc424f8c-2418-44bc-9499-a12f6912fdca",
   "metadata": {},
   "source": [
    ":Write a python code to skip the first two rows of excel spreadsheet and print the output using pandas data frame"
   ]
  },
  {
   "cell_type": "code",
   "execution_count": 8,
   "id": "002669c0-fa82-4beb-8af0-9944db0cef8a",
   "metadata": {},
   "outputs": [
    {
     "name": "stdout",
     "output_type": "stream",
     "text": [
      "          A         B         C\n",
      "2  0.941708  0.268130  0.202866\n",
      "3  0.270149  0.824128  0.595663\n",
      "4  0.071835  0.404434  0.364456\n",
      "5  0.205309  0.006718  0.794676\n",
      "6  0.157287  0.213034  0.757278\n",
      "7  0.587957  0.206885  0.499426\n",
      "8  0.001963  0.875492  0.628016\n",
      "9  0.214332  0.820130  0.699441\n"
     ]
    }
   ],
   "source": [
    "import pandas as pd\n",
    "import numpy as np\n",
    "\n",
    "# Create a sample DataFrame\n",
    "df = pd.DataFrame({\n",
    "    'A': np.random.rand(10),\n",
    "    'B': np.random.rand(10),\n",
    "    'C': np.random.rand(10)\n",
    "})\n",
    "\n",
    "# Skip the first two rows and print\n",
    "print(df.iloc[2:])\n",
    "\n"
   ]
  },
  {
   "cell_type": "markdown",
   "id": "b2bbd026-735a-4040-94fc-3ad2758bc167",
   "metadata": {},
   "source": [
    " Write a python code to scale the values of features (Age and Salary) using Min-Max Normalization technique. Verify your answers by applying the formula mentioned above."
   ]
  },
  {
   "cell_type": "code",
   "execution_count": 14,
   "id": "1be1ebc9-a74d-403b-ac76-5404c68ab666",
   "metadata": {},
   "outputs": [
    {
     "name": "stdout",
     "output_type": "stream",
     "text": [
      "     Name     Gender\n",
      "0     Ali       Male\n",
      "1    Amir  No Gender\n",
      "2  Kamran       Male\n",
      "3    Sara     Female\n",
      "4    Zara  No Gender\n"
     ]
    }
   ],
   "source": [
    "import pandas as pd\n",
    "import numpy as np\n",
    "\n",
    "# Create a sample DataFrame with null values\n",
    "df = pd.DataFrame({\n",
    "    'Name': ['Ali', 'Amir', 'Kamran', 'Sara', 'Zara'],\n",
    "    'Gender': ['Male', np.nan, 'Male', 'Female', np.nan]\n",
    "})\n",
    "\n",
    "# Fill null values in 'Gender' column\n",
    "df['Gender'].fillna('No Gender', inplace=True)\n",
    "\n",
    "# Print the DataFrame\n",
    "print(df)\n"
   ]
  },
  {
   "cell_type": "markdown",
   "id": "d6f386ea-6159-4a5d-89fe-a458fa8cd738",
   "metadata": {},
   "source": [
    " Write a python code to scale the values of features (Age and Salary) using Min-Max Normalization technique. Verify your answers by applying the formula mentioned above."
   ]
  },
  {
   "cell_type": "code",
   "execution_count": 18,
   "id": "a0aa0d53-58a7-440f-823e-ac62bc5fa4fe",
   "metadata": {},
   "outputs": [
    {
     "name": "stdout",
     "output_type": "stream",
     "text": [
      "        Age    Salary\n",
      "0  0.166667  0.053324\n",
      "1  0.666667  0.082066\n",
      "2  1.000000  0.183015\n",
      "3  0.000000  0.000000\n",
      "4  0.750000  1.000000\n"
     ]
    }
   ],
   "source": [
    "import pandas as pd\n",
    "import numpy as np\n",
    "\n",
    "# Sample data\n",
    "data = {\n",
    "    'Age': np.random.randint(20, 50, size=5),\n",
    "    'Salary': np.random.randint(40000, 100000, size=5)\n",
    "}\n",
    "\n",
    "df = pd.DataFrame(data)\n",
    "\n",
    "# Min-Max Normalization\n",
    "df['Age'] = (df['Age'] - df['Age'].min()) / (df['Age'].max() - df['Age'].min())\n",
    "df['Salary'] = (df['Salary'] - df['Salary'].min()) / (df['Salary'].max() - df['Salary'].min())\n",
    "\n",
    "# Print the scaled DataFrame\n",
    "print(df)\n"
   ]
  },
  {
   "cell_type": "markdown",
   "id": "eb9571fe-4d65-4f8a-879b-952bed2452c1",
   "metadata": {},
   "source": [
    "Write a python code to scale the values of features (Age and Salary) using Standardization technique. Verify your answers by applying the formula mentioned above. "
   ]
  },
  {
   "cell_type": "code",
   "execution_count": 17,
   "id": "493ddabf-7eab-4627-bcd7-0c05758d8bc3",
   "metadata": {},
   "outputs": [
    {
     "name": "stdout",
     "output_type": "stream",
     "text": [
      "        Age    Salary\n",
      "0  0.456805 -0.921845\n",
      "1  1.298287  1.214534\n",
      "2 -0.745313  0.048609\n",
      "3 -1.226160  0.727823\n",
      "4  0.216381 -1.069121\n"
     ]
    }
   ],
   "source": [
    "import pandas as pd\n",
    "import numpy as np\n",
    "\n",
    "# Sample data\n",
    "data = {\n",
    "    'Age': np.random.randint(20, 50, size=5),\n",
    "    'Salary': np.random.randint(40000, 100000, size=5)\n",
    "}\n",
    "\n",
    "df = pd.DataFrame(data)\n",
    "\n",
    "# Standardization\n",
    "df['Age'] = (df['Age'] - df['Age'].mean()) / df['Age'].std()\n",
    "df['Salary'] = (df['Salary'] - df['Salary'].mean()) / df['Salary'].std()\n",
    "\n",
    "# Print the standardized DataFrame\n",
    "print(df)\n",
    "\n"
   ]
  },
  {
   "cell_type": "code",
   "execution_count": 16,
   "id": "b05dbdbc-31cd-44cd-97ce-be1f2499f32c",
   "metadata": {},
   "outputs": [
    {
     "name": "stdout",
     "output_type": "stream",
     "text": [
      "   First Score  Second Score  Third Score\n",
      "0        100.0          30.0         40.0\n",
      "1         90.0          45.0         40.0\n",
      "2         95.0          56.0         80.0\n",
      "3         95.0           NaN         98.0\n"
     ]
    },
    {
     "name": "stderr",
     "output_type": "stream",
     "text": [
      "C:\\Users\\ABC\\AppData\\Local\\Temp\\ipykernel_8896\\3007288413.py:15: FutureWarning: DataFrame.interpolate with method=bfill is deprecated and will raise in a future version. Use obj.ffill() or obj.bfill() instead.\n",
      "  df_interpolated = df.interpolate(method='bfill')\n"
     ]
    }
   ],
   "source": [
    "import pandas as pd\n",
    "import numpy as np\n",
    "\n",
    "# Create a DataFrame with missing values\n",
    "data = {\n",
    "    'First Score': [100, 90, np.nan, 95],\n",
    "    'Second Score': [30, 45, 56, np.nan],\n",
    "    'Third Score': [np.nan, 40, 80, 98]\n",
    "}\n",
    "\n",
    "# Create DataFrame\n",
    "df = pd.DataFrame(data)\n",
    "\n",
    "# Interpolate missing values using backward interpolation\n",
    "df_interpolated = df.interpolate(method='bfill')\n",
    "\n",
    "# Print the DataFrame with interpolated values\n",
    "print(df_interpolated)\n",
    "\n"
   ]
  },
  {
   "cell_type": "code",
   "execution_count": null,
   "id": "512d4503-e3b4-4f2c-be6a-34b8d0aee7ca",
   "metadata": {},
   "outputs": [],
   "source": []
  }
 ],
 "metadata": {
  "kernelspec": {
   "display_name": "Python 3 (ipykernel)",
   "language": "python",
   "name": "python3"
  },
  "language_info": {
   "codemirror_mode": {
    "name": "ipython",
    "version": 3
   },
   "file_extension": ".py",
   "mimetype": "text/x-python",
   "name": "python",
   "nbconvert_exporter": "python",
   "pygments_lexer": "ipython3",
   "version": "3.11.7"
  }
 },
 "nbformat": 4,
 "nbformat_minor": 5
}
